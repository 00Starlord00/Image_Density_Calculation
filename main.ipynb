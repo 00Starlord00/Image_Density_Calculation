{
  "nbformat": 4,
  "nbformat_minor": 0,
  "metadata": {
    "colab": {
      "name": "main.ipynb",
      "provenance": [],
      "collapsed_sections": [],
      "mount_file_id": "1BsWbLgIhVzFBQMMU-Fsoj5LtF23-AMp7",
      "authorship_tag": "ABX9TyNt9vcHGwDdIThbHIDwUWXV",
      "include_colab_link": true
    },
    "kernelspec": {
      "name": "python3",
      "display_name": "Python 3"
    },
    "accelerator": "GPU"
  },
  "cells": [
    {
      "cell_type": "markdown",
      "metadata": {
        "id": "view-in-github",
        "colab_type": "text"
      },
      "source": [
        "<a href=\"https://colab.research.google.com/github/00Starlord00/Image_Density_Calculation/blob/master/main.ipynb\" target=\"_parent\"><img src=\"https://colab.research.google.com/assets/colab-badge.svg\" alt=\"Open In Colab\"/></a>"
      ]
    },
    {
      "cell_type": "markdown",
      "metadata": {
        "id": "pqFQ-_JRa7Kr",
        "colab_type": "text"
      },
      "source": [
        "# Installing Dependencies"
      ]
    },
    {
      "cell_type": "code",
      "metadata": {
        "id": "310F9h5wHoEg",
        "colab_type": "code",
        "colab": {}
      },
      "source": [
        "!pip install imageai\n",
        "#!pip install tensorflow==1.9\n",
        "#!pip install keras==2.2.0"
      ],
      "execution_count": 0,
      "outputs": []
    },
    {
      "cell_type": "markdown",
      "metadata": {
        "id": "8GF0Ma-5dW5G",
        "colab_type": "text"
      },
      "source": [
        "# Import libraries"
      ]
    },
    {
      "cell_type": "code",
      "metadata": {
        "id": "Uuel2btpr5yT",
        "colab_type": "code",
        "colab": {}
      },
      "source": [
        "from imageai.Detection import ObjectDetection\n",
        "import os"
      ],
      "execution_count": 0,
      "outputs": []
    },
    {
      "cell_type": "markdown",
      "metadata": {
        "id": "7rzKE8sidUsh",
        "colab_type": "text"
      },
      "source": [
        "# Data and Model Path\n",
        "\n",
        "\n",
        "*   **Execution_path** : Path of saved model\n",
        "*   **Input_path** : Path of input images\n",
        "*   **Output_path** : Path for storing output images\n",
        "\n",
        "\n",
        "\n"
      ]
    },
    {
      "cell_type": "code",
      "metadata": {
        "id": "ulL4QTzwdT3P",
        "colab_type": "code",
        "colab": {}
      },
      "source": [
        "execution_path = '/content/drive/My Drive/Models'\n",
        "input_path = '/content/drive/My Drive/ShanGhaiTech/part_B_final/train_data/images'\n",
        "output_path = '/content/drive/My Drive/ShanGhaiTech/Output'"
      ],
      "execution_count": 0,
      "outputs": []
    },
    {
      "cell_type": "markdown",
      "metadata": {
        "id": "ijIeZLssdfIs",
        "colab_type": "text"
      },
      "source": [
        "# Object Detection Models"
      ]
    },
    {
      "cell_type": "code",
      "metadata": {
        "id": "U7M2bOfSdf_H",
        "colab_type": "code",
        "colab": {}
      },
      "source": [
        "detector = ObjectDetection()\n",
        "detector.setModelTypeAsRetinaNet()\n",
        "detector.setModelPath( os.path.join(execution_path , \"resnet50_coco_best_v2.0.1.h5\"))\n",
        "detector.loadModel()"
      ],
      "execution_count": 0,
      "outputs": []
    },
    {
      "cell_type": "code",
      "metadata": {
        "id": "fSThZeYmdjgw",
        "colab_type": "code",
        "colab": {
          "base_uri": "https://localhost:8080/",
          "height": 34
        },
        "outputId": "cb31b670-d2e8-427c-801f-2d3e5f22ad1e"
      },
      "source": [
        "def crowd_count(input_img):\n",
        "    output_img = '_'.join([\"output\", input_img])\n",
        "    objects_present = detector.CustomObjects(person = True)\n",
        "    detections = detector.detectCustomObjectsFromImage(custom_objects = objects_present, input_image = os.path.join(input_path , input_img), output_image_path=os.path.join(output_path , output_img), minimum_percentage_probability=29)\n",
        "    return len(detections)\n",
        "\n",
        "\n",
        "input_img = \"IMG_3.jpg\"\n",
        "density_count = crowd_count(input_img)\n",
        "print('Number of people: ',density_count)\n"
      ],
      "execution_count": 10,
      "outputs": [
        {
          "output_type": "stream",
          "text": [
            "Number of people:  44\n"
          ],
          "name": "stdout"
        }
      ]
    },
    {
      "cell_type": "code",
      "metadata": {
        "id": "qZlQj9fWj2TS",
        "colab_type": "code",
        "colab": {}
      },
      "source": [
        "#os.remove(os.path.join(output_path, output_img))"
      ],
      "execution_count": 0,
      "outputs": []
    }
  ]
}